{
 "cells": [
  {
   "cell_type": "markdown",
   "id": "a8874454-2ab3-44c4-bc3c-8eaca9ffbd49",
   "metadata": {},
   "source": [
    "\n",
    "<hr>\n",
    "<h2 style=\"color:darkgreen; text-align:center;\">Sciml Project</h2>\n",
    "<hr>"
   ]
  },
  {
   "cell_type": "markdown",
   "id": "4ba5d4ba-b0c7-4181-a582-4502eefb3261",
   "metadata": {},
   "source": [
    "\n",
    "\n",
    "# Physics-Informed Neural Network Modeling of Axisymmetric Jet Radius Evolution and Droplet Formation for Fuel Spray Atomization\n",
    "* **Author** - Pulak Haldar*"
   ]
  },
  {
   "cell_type": "markdown",
   "id": "ef109096-f3e5-47a7-82c5-d45a8e519b84",
   "metadata": {},
   "source": [
    "**Reference:** \n",
    " 1. **[Dr.Abhishek Saini ]( https://www.linkedin.com/in/abhishek-saini-b5080443/)**  SciML Class Content (2025) at IIT mandi \n",
    " 2. Rayleigh–Plateau instabilities linear Theory\n",
    " 3. T. W. Driessen, Drop formation from axi-symmetric fluid jets, Ph.D. dissertation, University of Twente, 2013."
   ]
  },
  {
   "cell_type": "markdown",
   "id": "2bd65a27-6b53-4bc3-a82d-6d240287aa3c",
   "metadata": {},
   "source": [
    "## Problem Definition\n",
    "\n",
    "**Governing Equation:**\\\n",
    "We Will model the time evolution of a liquid jet radius \\( R(x, t) \\) with an axial velocity field \\( u(x, t) \\), under the influence of surface tension:\n",
    "$$\\frac{\\partial R}{\\partial t} + u(x,t) \\frac{\\partial R}{\\partial x} + \\frac{1}{2} R(x,t) \\frac{\\partial u}{\\partial x} = -\\frac{\\gamma}{\\rho R(x,t)}, \\qquad x \\in [0, 1], \\quad t \\in [0, t]$$\n",
    "\n",
    "where:\n",
    "- **Uknown** - $R$ is the Jet Radius as a function of space and time, $R(x, t)$.\n",
    "- **Uknown** - $u$ is the Axial Velocity as a function of space and time, $u(x, t)$.\n",
    "- $\\gamma$ is the Surface tension of the liquid ($\\gamma=0.027$),\n",
    "- $\\rho$ is Liquid density ($\\rho=830$),\n",
    "\n",
    "**Initial Conditions:**\\\n",
    "At \\( t = 0 \\), the jet starts with a sinusoidal radius (**Rayleigh–Plateau instabilities**) and a linear velocity profile(gradually decreasing flow):\n",
    "$$R(x, 0) = \\sin(\\pi x) , \\quad u(x, 0) = 1 - 0.5 x $$.\n",
    "\n",
    "**Boundary Condition:**\\\n",
    "Apply **Dirichlet boundary conditions** at the inlet $x=0$ and outlet  $x=1$: \\\n",
    "$$R(0, t) = 0 , \\quad R(1, t) = 0 \\hspace{4em} u(0, t) = 1 , \\quad u(1, t) = 0.5$$\n",
    "\n",
    "**Simplified Analytical Solution:**\\\n",
    "Assumptions:\\\n",
    "$ u(x,t) = constant = u_0 ,\\qquad (\\frac{\\partial u}{\\partial x} = 0 )$\n",
    "\n",
    "The equation simplifies to:\n",
    "\n",
    "$\\frac{\\partial R}{\\partial t} + u_0 \\frac{\\partial R}{\\partial x} = -\\frac{\\gamma}{\\rho R}$\n",
    "\n",
    "An approximate analytical solution via separation of variables:\\\n",
    "$R(x, t) = \\sin(\\pi x) \\cdot e^{-\\lambda t / 2} \\qquad  where,\\quad \\lambda = \\frac{2\\gamma}{\\rho R^2}\\quad(effective- decay- rate) \\qquad  and:u(x, t) \\approx 1 - 0.5x \\quad (assumed- steady-velocity)$\\\n",
    "This solution is **only approximate**."
   ]
  },
  {
   "cell_type": "code",
   "execution_count": null,
   "id": "d0f139ac-92fd-412c-bc01-1331e6083689",
   "metadata": {},
   "outputs": [],
   "source": []
  },
  {
   "cell_type": "code",
   "execution_count": 15,
   "id": "d0b14259-8ad9-4631-aa67-30c0b11bf3d0",
   "metadata": {},
   "outputs": [],
   "source": [
    "import torch\n",
    "import torch.nn as nn\n",
    "import torch.optim as optim\n",
    "import numpy as np\n",
    "import matplotlib.pyplot as plt"
   ]
  },
  {
   "cell_type": "code",
   "execution_count": 16,
   "id": "d2c658e8-16b7-4d5e-84f5-faff14fdce9a",
   "metadata": {},
   "outputs": [],
   "source": [
    "# Constants\n",
    "rho = 830.0       # Density [kg/m^3]\n",
    "gamma = 0.027      # Surface tension [N/m]"
   ]
  },
  {
   "cell_type": "markdown",
   "id": "0c62d14d-b6dd-4809-9b5b-9c9a159c0fcf",
   "metadata": {},
   "source": [
    "# Define the PINN model\n",
    "\n",
    "\n",
    "class PINN(nn.Module):      $\\hspace{5em}$ # Define a custom neural network class inheriting from PyTorch's nn.Module\\\n",
    "    def __init__(self):     \\     \n",
    "        super(PINN, self).__init__()     $\\hspace{5em}$  # Initialize parent class (nn.Module)\\\n",
    "        self.net = nn.Sequential(    $\\hspace{4em}$  # Define a feedforward neural network as a sequence of layers\\\n",
    "            nn.Linear(2, 100),      $\\hspace{7em}$  # Input layer: takes 2 inputs (x, t), outputs 100 features\\\n",
    "            nn.Tanh(),              $\\hspace{10em}$ # Activation function: hyperbolic tangent\\\n",
    "            nn.Linear(100, 100),    $\\hspace{6em}$  # Hidden layer: 100 input features, 100 output features\\\n",
    "            nn.Tanh(),              $\\hspace{10em}$  # Activation function\\\n",
    "            nn.Linear(100, 100),   $\\hspace{6em}$   # Another hidden layer\\\n",
    "            nn.Tanh()               $\\hspace{10em}$   # Activation function\\\n",
    "            nn.Linear(100, 100),    $\\hspace{6em}$  # Yet another hidden layer\\\n",
    "            nn.Tanh(),              $\\hspace{10em}$  # Activation function\\\n",
    "            nn.Linear(100, 2)       $\\hspace{7em}$  # Output layer: produces 2 outputs (e.g., jet radius R and velocity u)\\\n",
    "        )\n",
    "\n",
    "   def forward(self, x, t):      $\\hspace{10em}$  # Forward pass: defines how input x and t pass through the network \\\n",
    "         return self.net(torch.cat([x, t], dim=1))    $\\hspace{4em}$ # Concatenate x and t along the feature dimension before feeding into the net"
   ]
  },
  {
   "cell_type": "code",
   "execution_count": 17,
   "id": "9c38fdec-3cb8-4927-b1ed-83cbc11f5e57",
   "metadata": {},
   "outputs": [],
   "source": [
    "# Define the PINN model\n",
    "class PINN(nn.Module):\n",
    "    def __init__(self):\n",
    "        super(PINN, self).__init__()\n",
    "        self.net = nn.Sequential(\n",
    "            nn.Linear(2, 100),\n",
    "            nn.Tanh(),\n",
    "            nn.Linear(100, 100),\n",
    "            nn.Tanh(),\n",
    "            nn.Linear(100, 100),\n",
    "            nn.Tanh(),\n",
    "            nn.Linear(100, 100),\n",
    "            nn.Tanh(),\n",
    "            nn.Linear(100, 2)  # Outputs: R and u\n",
    "        )\n",
    "\n",
    "    def forward(self, x, t):\n",
    "        return self.net(torch.cat([x, t], dim=1))"
   ]
  },
  {
   "cell_type": "markdown",
   "id": "311244ef-ee75-4aa1-b9f7-696bea395624",
   "metadata": {},
   "source": [
    "# PDE residual\n",
    "def pde_residual(model, x, t): $\\hspace{7em}$  # Define function to compute residual of the governing PDE using the PINN model\\\n",
    "    x.requires_grad = True     $\\hspace{10em}$  # Enable automatic differentiation w.r.t x\\\n",
    "    t.requires_grad = True     $\\hspace{10em}$  # Enable automatic differentiation w.r.t t\\\n",
    "    out = model(x, t)         $\\hspace{12em}$   # Forward pass: get predictions R and u from the model\\\n",
    "    R, u = out[:, 0:1], out[:, 1:2] $\\hspace{9em}$     # Split the output: R (radius), u (velocity)\n",
    "\n",
    "#Compute partial derivatives using autograd\n",
    "\n",
    "R_t = torch.autograd.grad(R, t, torch.ones_like(R), retain_graph=True, create_graph=True) [0]  $\\hspace{7em}$  # ∂R/∂t  \\\n",
    "    R_x = torch.autograd.grad(R, x, torch.ones_like(R), retain_graph=True, create_graph=True)[0] $\\hspace{7em}$ # ∂R/∂x \\\n",
    "    u_x = torch.autograd.grad(u, x, torch.ones_like(u), retain_graph=True, create_graph=True)[0] $\\hspace{7em}$ # ∂u/∂x   \n",
    "\n",
    " \n",
    "   return R_t + u * R_x + 0.5 * R * u_x + gamma / (rho * R) $\\hspace{7em}$ \n",
    "   \n",
    "   #Return the PDE residual (from Governing equation), Residual of the PDE equation (should be ≈ 0 for correct solution)"
   ]
  },
  {
   "cell_type": "code",
   "execution_count": 18,
   "id": "c97bdf54-a41e-411a-aae1-524958c355c6",
   "metadata": {},
   "outputs": [],
   "source": [
    "# PDE residual\n",
    "def pde_residual(model, x, t):\n",
    "    x.requires_grad = True\n",
    "    t.requires_grad = True\n",
    "    out = model(x, t)\n",
    "    R, u = out[:, 0:1], out[:, 1:2]\n",
    "    R_t = torch.autograd.grad(R, t, torch.ones_like(R), retain_graph=True, create_graph=True)[0]\n",
    "    R_x = torch.autograd.grad(R, x, torch.ones_like(R), retain_graph=True, create_graph=True)[0]\n",
    "    u_x = torch.autograd.grad(u, x, torch.ones_like(u), retain_graph=True, create_graph=True)[0]\n",
    "    return R_t + u * R_x + 0.5 * R * u_x + gamma / (rho * R)\n"
   ]
  },
  {
   "cell_type": "markdown",
   "id": "774cdd53-8641-4213-a3cf-80646ff84a3f",
   "metadata": {},
   "source": [
    "# Initial condition (t = 0): R(x, 0) = sin(πx), u(x, 0) = 1 - 0.5 * x\n",
    "def initial_condition(x):       $\\hspace{7em}$    # Define a function that takes a tensor x as input\\\n",
    "    R0 = torch.sin(np.pi * x)    $\\hspace{7em}$   #  computes sin(π * x_i) for each element in tensor x\\\n",
    "    u0 = 1 - 0.5 * x            $\\hspace{10em}$    # subtracts 0.5 * x_i from 1 for each element in x\\\n",
    "    return R0, u0               $\\hspace{11em}$    # Returns two tensors: R0 and u0, same shape as x\n"
   ]
  },
  {
   "cell_type": "code",
   "execution_count": 19,
   "id": "ae3c4b89-8b32-447f-84c6-c3ac1e11968e",
   "metadata": {},
   "outputs": [],
   "source": [
    "# Initial condition (t=0) : R(x, 0) = sin(pi x), u(x, 0) = 1 - 0.5 * x\n",
    "def initial_condition(x):\n",
    "    R0 = torch.sin(np.pi * x)\n",
    "    u0 = 1 - 0.5 * x\n",
    "    return R0, u0"
   ]
  },
  {
   "cell_type": "markdown",
   "id": "8a7d0691-da54-4991-80d7-0c81a747557d",
   "metadata": {},
   "source": [
    "# Boundary Condition\n",
    "def boundary_condition(x):                        $\\hspace{10em}$     # Define a function to apply boundary conditions at spatial boundaries\\\n",
    "    return torch.zeros_like(x), 1.0 - 0.5 * x      $\\hspace{6em}$     # Returns two tensors:\\\n",
    "                                                  $\\hspace{15em}$      #   → First: tensor of zeros with same shape/type as x (R = 0 at boundary)\\\n",
    "                                                 $\\hspace{15em}$       #   → Second: tensor computed as 1.0 - 0.5 * x, element-wise (u = 1 - 0.5x)\n"
   ]
  },
  {
   "cell_type": "code",
   "execution_count": 20,
   "id": "6b517474-6150-4a94-b492-5bf9fc06aca9",
   "metadata": {},
   "outputs": [],
   "source": [
    "def boundary_condition(x):\n",
    "    return torch.zeros_like(x), 1.0 - 0.5 * x"
   ]
  },
  {
   "cell_type": "markdown",
   "id": "59cf3adc-365e-4a05-870f-6ba346888b36",
   "metadata": {},
   "source": [
    "# Data generation\n",
    "def get_training_data(N_f=10000, N_i=100, N_b=100):         $\\hspace{9em}$         # Function to generate training data for PDE, IC, and BC\\\n",
    "    x_f = torch.rand(N_f, 1)                                  $\\hspace{15em}$       # Random x ∈ [0,1] for PDE residual points (N_f x 1 tensor)\\\n",
    "    t_f = torch.rand(N_f, 1)                                 $\\hspace{15em}$        # Random t ∈ [0,1] for PDE residual points (N_f x 1 tensor)\\\n",
    "\n",
    "x_i = torch.linspace(0, 1, N_i).view(-1, 1)            $\\hspace{10em}$          # Linearly spaced x ∈ [0,1] for initial condition (reshaped to column)\\\n",
    "t_i = torch.zeros_like(x_i)                        $\\hspace{15em}$             # t = 0 for all initial points (same shape as x_i)\\\n",
    "R_i, u_i = initial_condition(x_i)                 $\\hspace{13em}$               # Compute initial values R(x,0), u(x,0) from known functions\\\n",
    "\n",
    "x_b = torch.cat([torch.zeros(N_b, 1), torch.ones(N_b, 1)], dim=0)  $\\hspace{7em}$  # Concatenate x = 0 and x = 1 to form boundary x values (2N_b x 1 tensor)\\\n",
    "t_b = torch.rand_like(x_b)                       $\\hspace{15em}$             # Random t ∈ [0,1] for each boundary point (same shape as x_b)\\\n",
    "R_b, u_b = boundary_condition(x_b)             $\\hspace{11em}$              # Compute boundary values R(x,t), u(x,t) using boundary condition function\\\n",
    "\n",
    "return x_f, t_f, x_i, t_i, R_i, u_i, x_b, t_b, R_b, u_b      $\\hspace{7em}$     # Return all generated tensors for PDE, initial, and boundary conditions\n"
   ]
  },
  {
   "cell_type": "code",
   "execution_count": 21,
   "id": "54ffe390-ca28-40d4-9c38-941bd54c78bc",
   "metadata": {},
   "outputs": [],
   "source": [
    "# Data generation\n",
    "def get_training_data(N_f=10000, N_i=100, N_b=100):\n",
    "    x_f = torch.rand(N_f, 1)\n",
    "    t_f = torch.rand(N_f, 1)\n",
    "    x_i = torch.linspace(0, 1, N_i).view(-1, 1)\n",
    "    t_i = torch.zeros_like(x_i)\n",
    "    R_i, u_i = initial_condition(x_i)\n",
    "    x_b = torch.cat([torch.zeros(N_b, 1), torch.ones(N_b, 1)], dim=0)\n",
    "    t_b = torch.rand_like(x_b)\n",
    "    R_b, u_b = boundary_condition(x_b)\n",
    "    return x_f, t_f, x_i, t_i, R_i, u_i, x_b, t_b, R_b, u_b"
   ]
  },
  {
   "cell_type": "markdown",
   "id": "34bdabb4-06c5-4efd-b8a1-d24079cf1452",
   "metadata": {},
   "source": [
    "# Loss function\n",
    "def compute_loss(model, x_f, t_f, x_i, t_i, R_i, u_i, x_b, t_b, R_b, u_b):  $\\hspace{7em}$      # Define total loss for training the PINN \\\n",
    "    f = pde_residual(model, x_f, t_f)                     $\\hspace{12em}$           # Compute PDE residual at collocation points (shape: [N_f, 1])\n",
    "\n",
    " out_i = model(x_i, t_i)                                   $\\hspace{14em}$                 # Predict model outputs at initial condition points\\\n",
    " R_i_pred, u_i_pred = out_i[:, 0:1], out_i[:, 1:2]           $\\hspace{7em}$                 # Split output into R and u predictions (initial)\n",
    "\n",
    " out_b = model(x_b, t_b)                                     $\\hspace{13em}$                 # Predict model outputs at boundary condition points\\\n",
    " R_b_pred, u_b_pred = out_b[:, 0:1], out_b[:, 1:2]         $\\hspace{7em}$                   # Split output into R and u predictions (boundary)\n",
    "\n",
    " loss_pde = torch.mean(f**2)              $\\hspace{13em}$                            # Mean squared PDE residual loss: enforces governing equation\\\n",
    " loss_ic = torch.mean((R_i_pred - R_i)**2 + (u_i_pred - u_i)**2)   $\\hspace{9em}$          # MSE loss for initial condition: R(x,0), u(x,0)\\\n",
    " loss_bc = torch.mean((R_b_pred - R_b)**2 + (u_b_pred - u_b)**2)  $\\hspace{9em}$           # MSE loss for boundary condition: R(0,t)/R(1,t), u(0,t)/u(1,t)\n",
    "\n",
    " return loss_pde + loss_ic + loss_bc       $\\hspace{12em}$                                  # Total loss: sum of PDE, initial, and boundary losses\n"
   ]
  },
  {
   "cell_type": "code",
   "execution_count": 22,
   "id": "891559c8-2ddf-4d2a-a70b-94a109c33c73",
   "metadata": {},
   "outputs": [],
   "source": [
    "# Loss function\n",
    "def compute_loss(model, x_f, t_f, x_i, t_i, R_i, u_i, x_b, t_b, R_b, u_b):\n",
    "    f = pde_residual(model, x_f, t_f)\n",
    "    out_i = model(x_i, t_i)\n",
    "    R_i_pred, u_i_pred = out_i[:, 0:1], out_i[:, 1:2]\n",
    "    out_b = model(x_b, t_b)\n",
    "    R_b_pred, u_b_pred = out_b[:, 0:1], out_b[:, 1:2]\n",
    "    loss_pde = torch.mean(f**2)\n",
    "    loss_ic = torch.mean((R_i_pred - R_i)**2 + (u_i_pred - u_i)**2)\n",
    "    loss_bc = torch.mean((R_b_pred - R_b)**2 + (u_b_pred - u_b)**2)\n",
    "    return loss_pde + loss_ic + loss_bc"
   ]
  },
  {
   "cell_type": "markdown",
   "id": "c2e815b2-c258-4149-ad3e-78cf412ab2bd",
   "metadata": {},
   "source": [
    "# Training loop\n",
    "def train(model, data, epochs=5000):  $\\hspace{12em}$                    # Define training function with model, data, and number of epochs\\\n",
    "    x_f, t_f, x_i, t_i, R_i, u_i, x_b, t_b, R_b, u_b = data   $\\hspace{9em}$ # Unpack training data for PDE, initial, and boundary conditions\n",
    "\n",
    " optimizer = torch.optim.Adam(model.parameters(), lr=1e-3)   $\\hspace{9em}$    # Initialize Adam optimizer with learning rate = 1e-3\n",
    "\n",
    "for epoch in range(epochs):      $\\hspace{14em}$                             # Loop over training epochs\\\n",
    "      optimizer.zero_grad()      $\\hspace{14em}$                             # Clear previous gradients (important before backprop)\n",
    "        \n",
    " loss = compute_loss(model, x_f, t_f, x_i, t_i, R_i, u_i, x_b, t_b, R_b, u_b)    $\\hspace{9em}$ # Compute total loss using current model parameters\n",
    "        \n",
    "loss.backward()             $\\hspace{14em}$                             # Perform backpropagation: compute gradients of loss w.r.t. model params\n",
    "        \n",
    "optimizer.step()        $\\hspace{14em}$                                 # Update model parameters using gradients (1 optimization step)\n",
    "\n",
    " if epoch % 500 == 0:              $\\hspace{14em}$                       # Print loss every 500 epochs for monitoring\n",
    "    print(f\"Epoch {epoch}: Loss = {loss.item():.6f}\")\n",
    "\n",
    " return model                             $\\hspace{14em}$                 # Return the trained model\n"
   ]
  },
  {
   "cell_type": "code",
   "execution_count": 23,
   "id": "143738d9-62ff-445c-8965-670fd53c42f9",
   "metadata": {},
   "outputs": [],
   "source": [
    "# Training loop\n",
    "def train(model, data, epochs=5000):\n",
    "    x_f, t_f, x_i, t_i, R_i, u_i, x_b, t_b, R_b, u_b = data\n",
    "    optimizer = torch.optim.Adam(model.parameters(), lr=1e-3)\n",
    "    for epoch in range(epochs):\n",
    "        optimizer.zero_grad()\n",
    "        loss = compute_loss(model, x_f, t_f, x_i, t_i, R_i, u_i, x_b, t_b, R_b, u_b)\n",
    "        loss.backward()\n",
    "        optimizer.step()\n",
    "        if epoch % 500 == 0:\n",
    "            print(f\"Epoch {epoch}: Loss = {loss.item():.6f}\")\n",
    "    return model"
   ]
  },
  {
   "cell_type": "markdown",
   "id": "69e7c45e-46ba-4460-9d0e-76063c26c947",
   "metadata": {},
   "source": [
    "# Function to extract predicted R and u over the domain\n",
    "def get_model_outputs(model, x_points=100, t_points=100): $\\hspace{9em}$         # Evaluate model predictions over a 2D (x, t) grid\\\n",
    "    x = torch.linspace(0, 1, x_points).view(-1, 1)  $\\hspace{13em}$             # Create 1D tensor of x values ∈ [0, 1], shape: (x_points, 1)\\\n",
    "    t = torch.linspace(0, 1, t_points).view(-1, 1)  $\\hspace{13em}$             # Create 1D tensor of t values ∈ [0, 1], shape: (t_points, 1)\n",
    "\n",
    "X, T = torch.meshgrid(x.squeeze(), t.squeeze(), indexing='ij') $\\hspace{9em}$   # Generate 2D grid: X[i,j] = x_i, T[i,j] = t_j\\\n",
    "                              $\\hspace{15em}$                                    # Shape of X and T: (x_points, t_points)\n",
    "\n",
    "x_flat = X.reshape(-1, 1)        $\\hspace{14em}$                                # Flatten 2D grid to column vector (x_points * t_points, 1)\\\n",
    " t_flat = T.reshape(-1, 1)       $\\hspace{14em}$                                # Flatten t grid similarly\n",
    "\n",
    "with torch.no_grad():        $\\hspace{15em}$                                # Disable gradient tracking during inference\\\n",
    "    output = model(x_flat, t_flat) $\\hspace{13em}$                          # Run model prediction on all grid points\\\n",
    "     R_pred = output[:, 0].reshape(x_points, t_points) $\\hspace{9em}$      # Extract R predictions and reshape to 2D grid\\\n",
    "     u_pred = output[:, 1].reshape(x_points, t_points)   $\\hspace{9em}$    # Extract u predictions and reshape to 2D grid\n",
    "\n",
    "return X, T, R_pred, u_pred           $\\hspace{14em}$                      # Return grid and predicted R, u values (all shape: x_points × t_points)\n"
   ]
  },
  {
   "cell_type": "code",
   "execution_count": 24,
   "id": "b7829549-f056-4e58-bdb4-6fecb21a574c",
   "metadata": {},
   "outputs": [],
   "source": [
    "# Function to extract predicted R and u over the domain\n",
    "def get_model_outputs(model, x_points=100, t_points=100):\n",
    "    x = torch.linspace(0, 1, x_points).view(-1, 1)\n",
    "    t = torch.linspace(0, 1, t_points).view(-1, 1)\n",
    "    X, T = torch.meshgrid(x.squeeze(), t.squeeze(), indexing='ij')\n",
    "    x_flat = X.reshape(-1, 1)\n",
    "    t_flat = T.reshape(-1, 1)\n",
    "    with torch.no_grad():\n",
    "        output = model(x_flat, t_flat)\n",
    "        R_pred = output[:, 0].reshape(x_points, t_points)\n",
    "        u_pred = output[:, 1].reshape(x_points, t_points)\n",
    "    return X, T, R_pred, u_pred"
   ]
  },
  {
   "cell_type": "markdown",
   "id": "1551c00a-916e-483c-a3a2-0914358e21a4",
   "metadata": {},
   "source": [
    "# Run PINNs training\n",
    "model = PINN()      $\\hspace{9em}$                # Instantiate the Physics-Informed Neural Network model\\\n",
    "data = get_training_data()   $\\hspace{9em}$       # Generate training data: PDE points, initial and boundary conditions\\\n",
    "trained_model = train(model, data) $\\hspace{9em}$     # Train the model using the specified training loop\\\n",
    "\"PINNs training complete.\"     $\\hspace{9em}$         # Status message (note: has no effect unless printed)\n"
   ]
  },
  {
   "cell_type": "code",
   "execution_count": 25,
   "id": "6f193cd4-2aca-4821-99a0-5ed4fcb3d900",
   "metadata": {},
   "outputs": [
    {
     "name": "stdout",
     "output_type": "stream",
     "text": [
      "Epoch 0: Loss = 1.555551\n",
      "Epoch 500: Loss = 0.345636\n",
      "Epoch 1000: Loss = 0.263635\n",
      "Epoch 1500: Loss = 0.253760\n",
      "Epoch 2000: Loss = 0.238526\n",
      "Epoch 2500: Loss = 0.210481\n",
      "Epoch 3000: Loss = 0.170906\n",
      "Epoch 3500: Loss = 0.123979\n",
      "Epoch 4000: Loss = 0.086733\n",
      "Epoch 4500: Loss = 20.692703\n"
     ]
    },
    {
     "data": {
      "text/plain": [
       "'PINNs training complete.'"
      ]
     },
     "execution_count": 25,
     "metadata": {},
     "output_type": "execute_result"
    }
   ],
   "source": [
    "# Run PINNs training\n",
    "model = PINN()\n",
    "data = get_training_data()\n",
    "trained_model = train(model, data)\n",
    "\"PINNs training complete.\""
   ]
  },
  {
   "cell_type": "markdown",
   "id": "7c256123-a5b9-40c0-8b02-306056ad499f",
   "metadata": {},
   "source": [
    "# Get predicted data of R and u\n",
    "X, T, R_data, u_data = get_model_outputs(trained_model)   $\\hspace{9em}$     # Evaluate trained model over (x, t) domain grid\n",
    "\n",
    "R_data.shape, u_data.shape            $\\hspace{9em}$              # Confirm output shapes: should be (x_points, t_points)\n"
   ]
  },
  {
   "cell_type": "code",
   "execution_count": 26,
   "id": "3ec2c958-67ab-4cd1-832a-dff89121115f",
   "metadata": {},
   "outputs": [
    {
     "data": {
      "text/plain": [
       "(torch.Size([100, 100]), torch.Size([100, 100]))"
      ]
     },
     "execution_count": 26,
     "metadata": {},
     "output_type": "execute_result"
    }
   ],
   "source": [
    "# Get predicted data of R and u\n",
    "X, T, R_data, u_data = get_model_outputs(trained_model)\n",
    "\n",
    "R_data.shape, u_data.shape  # Confirm the output dimensions"
   ]
  },
  {
   "cell_type": "markdown",
   "id": "cb767ee1-a2bb-4bb5-8ae1-632768c3f9cd",
   "metadata": {},
   "source": [
    "# Print values of R(x,t) & u(x,t)\n",
    "print(\"Sample of R(x,t):\")      $\\hspace{9em}$                     # Print a label for jet radius sample output\\\n",
    "print(R_data[:5, :5])       $\\hspace{9em}$                         # Print a 5x5 slice: first 5 x-values × first 5 t-values of R(x,t)\n",
    "\n",
    "print(\"\\nSample of u(x,t):\")         $\\hspace{9em}$                # Print a label for velocity sample output\\\n",
    "print(u_data[:5, :5])           $\\hspace{9em}$                     # Print a 5x5 slice: first 5 x-values × first 5 t-values of u(x,t)\n"
   ]
  },
  {
   "cell_type": "code",
   "execution_count": 27,
   "id": "c1f194d5-8cb4-4e3f-8f7b-13b8c95fa556",
   "metadata": {},
   "outputs": [
    {
     "name": "stdout",
     "output_type": "stream",
     "text": [
      "Sample of R(x,t):\n",
      "tensor([[0.8098, 0.8102, 0.8105, 0.8109, 0.8113],\n",
      "        [0.8102, 0.8106, 0.8110, 0.8114, 0.8118],\n",
      "        [0.8107, 0.8111, 0.8114, 0.8118, 0.8122],\n",
      "        [0.8111, 0.8115, 0.8119, 0.8122, 0.8126],\n",
      "        [0.8116, 0.8119, 0.8123, 0.8127, 0.8130]])\n",
      "\n",
      "Sample of u(x,t):\n",
      "tensor([[0.8211, 0.8197, 0.8183, 0.8171, 0.8158],\n",
      "        [0.8180, 0.8166, 0.8153, 0.8140, 0.8128],\n",
      "        [0.8149, 0.8136, 0.8123, 0.8111, 0.8099],\n",
      "        [0.8120, 0.8107, 0.8094, 0.8082, 0.8071],\n",
      "        [0.8091, 0.8078, 0.8066, 0.8055, 0.8044]])\n"
     ]
    }
   ],
   "source": [
    "print(\"Sample of R(x,t):\")\n",
    "print(R_data[:5, :5])  # print first 5 x-values and first 5 time steps\n",
    "\n",
    "print(\"\\nSample of u(x,t):\")\n",
    "print(u_data[:5, :5])\n"
   ]
  },
  {
   "cell_type": "markdown",
   "id": "15137788-ddd2-4ead-aac4-397336b34e1b",
   "metadata": {},
   "source": [
    "# Save Data\n",
    "np.savetxt(\"R_data.csv\", R_data.numpy(), delimiter=\",\")  $\\hspace{9em}$    # Convert R_data (torch.Tensor) to NumPy array and save as CSV\\\n",
    "np.savetxt(\"u_data.csv\", u_data.numpy(), delimiter=\",\")  $\\hspace{9em}$    # Convert u_data to NumPy and save with comma-separated values\n"
   ]
  },
  {
   "cell_type": "code",
   "execution_count": 28,
   "id": "a07448c3-57bb-4fa7-9f27-d4379c2ec85b",
   "metadata": {},
   "outputs": [],
   "source": [
    "np.savetxt(\"R_data.csv\", R_data.numpy(), delimiter=\",\")\n",
    "np.savetxt(\"u_data.csv\", u_data.numpy(), delimiter=\",\")\n"
   ]
  },
  {
   "cell_type": "markdown",
   "id": "6ac7defb-5cc7-443d-a76f-01e17edf059f",
   "metadata": {},
   "source": [
    "# Plote the Figure\n",
    "time_indices = [0, 12, 25, 37, 49]             $\\hspace{9em}$         # Select time indices for t ≈ 0.0, 0.25, 0.5, 0.75, 1.0 \n",
    "\n",
    "**=== FIGURE 1: R(x, t) ===**\\\n",
    "plt.figure(figsize=(14, 5))                $\\hspace{9em}$            # Create a wide figure with 2 subplots side by side\n",
    "\n",
    "**Left: PINNs Prediction**\n",
    "plt.subplot(1, 2, 1)                     $\\hspace{9em}$                  # Left subplot (1 row, 2 columns, index 1)\\\n",
    "for idx in time_indices:\\\n",
    "    plt.plot(X[:, 0], R_data[:, idx], label=f't = {T[0, idx]:.2f}')   $\\hspace{9em}$ # Plot predicted R(x) at each selected t\\\n",
    "plt.title('PINNs Prediction of R(x, t)')\\\n",
    "plt.xlabel('x')\\\n",
    "plt.ylabel('R')\\\n",
    "plt.grid(True)\\\n",
    "plt.legend()\n",
    "\n",
    "**Right: Analytical Solution**\\\n",
    "plt.subplot(1, 2, 2)                $\\hspace{9em}$                      # Right subplot (index 2)\\\n",
    "for idx in time_indices:\\\n",
    "    plt.plot(X[:, 0], R_exact[:, idx], '--', label=f't = {T[0, idx]:.2f}')   $\\hspace{9em}$ # Plot analytical R(x) with dashed lines\\\n",
    "plt.title('Analytical Solution of R(x, t)')\\\n",
    "plt.xlabel('x')\\\n",
    "plt.ylabel('R')\\\n",
    "plt.grid(True)\\\n",
    "plt.legend()\n",
    "\n",
    "plt.tight_layout()\\\n",
    "plt.show()                                  $\\hspace{9em}$                # Display figure 1 (R vs x at multiple times)\n",
    "\n",
    "**=== FIGURE 2: u(x, t) ===**\\\n",
    "plt.figure(figsize=(14, 5))             $\\hspace{9em}$                    # New figure for velocity comparison\n",
    "\n",
    "**Left: PINNs Prediction**\\\n",
    "plt.subplot(1, 2, 1)\\\n",
    "for idx in time_indices:\\\n",
    "    plt.plot(X[:, 0], u_data[:, idx], label=f't = {T[0, idx]:.2f}')   $\\hspace{9em}$ # Plot predicted u(x) at selected t\\\n",
    "plt.title('PINNs Prediction of u(x, t)')\\\n",
    "plt.xlabel('x')\\\n",
    "plt.ylabel('u')\\\n",
    "plt.grid(True)\\\n",
    "plt.legend()\n",
    "\n",
    "**Right: Analytical Solution**\\\n",
    "plt.subplot(1, 2, 2)\\\n",
    "for idx in time_indices:\\\n",
    "    plt.plot(X[:, 0], u_exact[:, idx], '--', label=f't = {T[0, idx]:.2f}')   $\\hspace{9em}$ # Plot analytical u(x) with dashed lines\\\n",
    "plt.title('Analytical Solution of u(x, t)')\\\n",
    "plt.xlabel('x')\\\n",
    "plt.ylabel('u')\\\n",
    "plt.grid(True)\\\n",
    "plt.legend()\n",
    "\n",
    "plt.tight_layout()\\\n",
    "plt.show()                                        $\\hspace{9em}$            # Display figure 2 (u vs x at multiple times)\n"
   ]
  },
  {
   "cell_type": "code",
   "execution_count": 30,
   "id": "755fc64f-a228-4076-bc04-3c14874a683d",
   "metadata": {},
   "outputs": [
    {
     "ename": "NameError",
     "evalue": "name 'R_exact' is not defined",
     "output_type": "error",
     "traceback": [
      "\u001b[31m---------------------------------------------------------------------------\u001b[39m",
      "\u001b[31mNameError\u001b[39m                                 Traceback (most recent call last)",
      "\u001b[36mCell\u001b[39m\u001b[36m \u001b[39m\u001b[32mIn[30]\u001b[39m\u001b[32m, line 20\u001b[39m\n\u001b[32m     18\u001b[39m plt.subplot(\u001b[32m1\u001b[39m, \u001b[32m2\u001b[39m, \u001b[32m2\u001b[39m)\n\u001b[32m     19\u001b[39m \u001b[38;5;28;01mfor\u001b[39;00m idx \u001b[38;5;129;01min\u001b[39;00m time_indices:\n\u001b[32m---> \u001b[39m\u001b[32m20\u001b[39m     plt.plot(X[:, \u001b[32m0\u001b[39m], \u001b[43mR_exact\u001b[49m[:, idx], \u001b[33m'\u001b[39m\u001b[33m--\u001b[39m\u001b[33m'\u001b[39m, label=\u001b[33mf\u001b[39m\u001b[33m'\u001b[39m\u001b[33mt = \u001b[39m\u001b[38;5;132;01m{\u001b[39;00mT[\u001b[32m0\u001b[39m,\u001b[38;5;250m \u001b[39midx]\u001b[38;5;132;01m:\u001b[39;00m\u001b[33m.2f\u001b[39m\u001b[38;5;132;01m}\u001b[39;00m\u001b[33m'\u001b[39m)\n\u001b[32m     21\u001b[39m plt.title(\u001b[33m'\u001b[39m\u001b[33mAnalytical Solution of R(x, t)\u001b[39m\u001b[33m'\u001b[39m)\n\u001b[32m     22\u001b[39m plt.xlabel(\u001b[33m'\u001b[39m\u001b[33mx\u001b[39m\u001b[33m'\u001b[39m)\n",
      "\u001b[31mNameError\u001b[39m: name 'R_exact' is not defined"
     ]
    },
    {
     "data": {
      "image/png": "[encoded data removed]",
      "text/plain": [
       "<Figure size 1400x500 with 2 Axes>"
      ]
     },
     "metadata": {},
     "output_type": "display_data"
    }
   ],
   "source": [
    "# Time slices to show (adjust as needed)\n",
    "time_indices = [0, 12, 25, 37, 49]  # Corresponds to t ~ 0, 0.25, 0.5, 0.75, 1.0\n",
    "\n",
    "# === FIGURE 1: R(x, t) ===\n",
    "plt.figure(figsize=(14, 5))\n",
    "\n",
    "# Left: PINNs Prediction\n",
    "plt.subplot(1, 2, 1)\n",
    "for idx in time_indices:\n",
    "    plt.plot(X[:, 0], R_data[:, idx], label=f't = {T[0, idx]:.2f}')\n",
    "plt.title('PINNs Prediction of R(x, t)')\n",
    "plt.xlabel('x')\n",
    "plt.ylabel('R')\n",
    "plt.grid(True)\n",
    "plt.legend()\n",
    "\n",
    "# Right: Analytical Solution\n",
    "plt.subplot(1, 2, 2)\n",
    "for idx in time_indices:\n",
    "    plt.plot(X[:, 0], R_exact[:, idx], '--', label=f't = {T[0, idx]:.2f}')\n",
    "plt.title('Analytical Solution of R(x, t)')\n",
    "plt.xlabel('x')\n",
    "plt.ylabel('R')\n",
    "plt.grid(True)\n",
    "plt.legend()\n",
    "\n",
    "plt.tight_layout()\n",
    "plt.show()\n",
    "\n",
    "# === FIGURE 2: u(x, t) ===\n",
    "plt.figure(figsize=(14, 5))\n",
    "\n",
    "# Left: PINNs Prediction\n",
    "plt.subplot(1, 2, 1)\n",
    "for idx in time_indices:\n",
    "    plt.plot(X[:, 0], u_data[:, idx], label=f't = {T[0, idx]:.2f}')\n",
    "plt.title('PINNs Prediction of u(x, t)')\n",
    "plt.xlabel('x')\n",
    "plt.ylabel('u')\n",
    "plt.grid(True)\n",
    "plt.legend()\n",
    "\n",
    "# Right: Analytical Solution\n",
    "plt.subplot(1, 2, 2)\n",
    "for idx in time_indices:\n",
    "    plt.plot(X[:, 0], u_exact[:, idx], '--', label=f't = {T[0, idx]:.2f}')\n",
    "plt.title('Analytical Solution of u(x, t)')\n",
    "plt.xlabel('x')\n",
    "plt.ylabel('u')\n",
    "plt.grid(True)\n",
    "plt.legend()\n",
    "\n",
    "plt.tight_layout()\n",
    "plt.show()\n"
   ]
  },
  {
   "cell_type": "markdown",
   "id": "611fb35b-4c32-4b8a-83d4-c82ddb5f2e3a",
   "metadata": {},
   "source": [
    "# Comparison of PINN vs Analytical Solution\n",
    "**Time indices for comparison**\\\n",
    "time_indices = [0, 12, 25, 37, 49]          $\\hspace{9em}$            # Time slice indices: t ≈ 0.00, 0.25, 0.50, 0.75, 1.00\n",
    "\n",
    "**Plot R(x, t) comparison**\\\n",
    "plt.figure(figsize=(8, 5))                      $\\hspace{9em}$              # Create a figure for comparing R(x, t)\\\n",
    "for idx in time_indices:\\\n",
    "    plt.plot(X[:, 0], R_data[:, idx], label=f'PINN t={T[0, idx]:.2f}') $\\hspace{9em}$    # Plot R from PINN (solid line)\\\n",
    "    plt.plot(X[:, 0], R_exact[:, idx], '--', label=f'Exact t={T[0, idx]:.2f}') $\\hspace{9em}$ # Plot R from exact solution (dashed line)\\\n",
    "plt.xlabel('x')\\\n",
    "plt.ylabel('R(x, t)')\\\n",
    "plt.title('Comparison of R(x, t) PINN vs Analytical Solution')\\\n",
    "plt.legend()\\\n",
    "plt.grid(True)\\\n",
    "plt.tight_layout()\\\n",
    "plt.show()                                    $\\hspace{9em}$                # Display the R(x, t) comparison plot\n",
    "\n",
    "**Plot u(x, t) comparison**\\\n",
    "plt.figure(figsize=(8, 5))                     $\\hspace{9em}$               # Create a new figure for comparing u(x, t)\\\n",
    "for idx in time_indices:\\\n",
    "    plt.plot(X[:, 0], u_data[:, idx], label=f'PINN t={T[0, idx]:.2f}') $\\hspace{9em}$    # Plot u from PINN (solid line)\\\n",
    "    plt.plot(X[:, 0], u_exact[:, idx], '--', label=f'Exact t={T[0, idx]:.2f}')  $\\hspace{9em}$ # Plot u from exact solution (dashed line)\\\n",
    "plt.xlabel('x')\\\n",
    "plt.ylabel('u(x, t)')\\\n",
    "plt.title('Comparison of u(x, t) PINN vs Analytical Solution')\\\n",
    "plt.legend()\\\n",
    "plt.grid(True)\\\n",
    "plt.tight_layout()\\\n",
    "plt.show()                                     $\\hspace{9em}$               # Display the u(x, t) comparison plot\n"
   ]
  },
  {
   "cell_type": "code",
   "execution_count": null,
   "id": "749e1be6-af3c-411a-a291-64e4ef1268f2",
   "metadata": {},
   "outputs": [],
   "source": [
    "# Time indices for comparison\n",
    "time_indices = [0, 12, 25, 37, 49]  # corresponds to t ~ 0, 0.25, 0.5, 0.75, 1.0\n",
    "\n",
    "# Plot R(x, t) comparison\n",
    "plt.figure(figsize=(8, 5))\n",
    "for idx in time_indices:\n",
    "    plt.plot(X[:, 0], R_data[:, idx], label=f'PINN t={T[0, idx]:.2f}')\n",
    "    plt.plot(X[:, 0], R_exact[:, idx], '--', label=f'Exact t={T[0, idx]:.2f}')\n",
    "plt.xlabel('x')\n",
    "plt.ylabel('R(x, t)')\n",
    "plt.title('Comparison of R(x, t) PINN vs Analytical Solution')\n",
    "plt.legend()\n",
    "plt.grid(True)\n",
    "plt.tight_layout()\n",
    "plt.show()\n",
    "\n",
    "# Plot u(x, t) comparison\n",
    "plt.figure(figsize=(8, 5))\n",
    "for idx in time_indices:\n",
    "    plt.plot(X[:, 0], u_data[:, idx], label=f'PINN t={T[0, idx]:.2f}')\n",
    "    plt.plot(X[:, 0], u_exact[:, idx], '--', label=f'Exact t={T[0, idx]:.2f}')\n",
    "plt.xlabel('x')\n",
    "plt.ylabel('u(x, t)')\n",
    "plt.title('Comparison of u(x, t) PINN vs Analytical Solution')\n",
    "plt.legend()\n",
    "plt.grid(True)\n",
    "plt.tight_layout()\n",
    "plt.show()\n"
   ]
  },
  {
   "cell_type": "markdown",
   "id": "c01b723c-7197-457b-92b7-60a959f29b45",
   "metadata": {},
   "source": [
    "# Derivation of Governing Equation \n",
    "\n",
    "The PDE governing the evolution of a slender axisymmetric liquid jet radius $R(x,t)$ under the influence of an axial velocity field $u(x,t)$ and surface tension.\n",
    "\n",
    "\n",
    "**Assumptions**\n",
    "\n",
    "1. *Axisymmetric slender jet*: Radius $(R)$ is small compared to axial length.  \n",
    "2. *Incompressible liquid* of density $(\\rho)$ .\n",
    "3. *Surface tension* $(\\gamma)$ acts to minimize surface area, causing capillary pressure.  \n",
    "4. Neglect *viscous* and *gravitational* forces (high Weber and low Reynolds numbers regime).  \n",
    "\n",
    "These assumptions reduce the full Navier–Stokes equations to a 1D model capturing capillary-driven dynamics and axial stretching.\n",
    "\n",
    "\n",
    "**Mass Conservation (Continuity)**\n",
    "\n",
    "For incompressible flow, mass flux through any cross-section is constant:\n",
    "\n",
    "\n",
    "$\\frac{\\partial}{\\partial t} (A) + \\frac{\\partial}{\\partial x} \\bigl(u\\, A\\bigr) = 0. \\qquad where \\quad A=(\\pi R^2)$\n",
    "\n",
    "\n",
    "$\n",
    "\\frac{\\partial}{\\partial t} (\\pi R^2) + \\frac{\\partial}{\\partial x} \\bigl(u\\,\\pi R^2\\bigr) = 0.\n",
    "$\n",
    "\n",
    "$\n",
    "2R \\frac{\\partial R}{\\partial t} + 2R\\,u \\frac{\\partial R}{\\partial x} + R^2 \\frac{\\partial u}{\\partial x} = 0.$ $\\quad$ (Divide by $(\\pi)$ and expand)\n",
    "\n",
    "\n",
    "$\n",
    "\\boxed{\\frac{\\partial R}{\\partial t} + u \\frac{\\partial R}{\\partial x} + \\tfrac12\\,R \\frac{\\partial u}{\\partial x} = 0.}\n",
    "$ $\\quad$This term captures axial stretching $(\\frac{\\partial R}{\\partial x})$ and advection of the interface.\n",
    "\n",
    "\n",
    "$\n",
    "\\Delta p = p_{\\text{in}} - p_{\\text{out}} = \\frac{\\gamma}{R}.$ $\\quad$ At a curved interface, surface tension generates a pressure (Laplace Pressure) this pressure acts inward, creating a radial acceleration.\n",
    "\n",
    "\n",
    "$\n",
    "a_r = \\frac{F}{m} = -\\frac{\\Delta p}{\\rho} = -\\frac{\\gamma}{\\rho\\,R}.$$\\quad$(Here, negative sign indicates collapse of radius under capillary forces.)\n",
    "\n",
    "**Final Governing PDE**\n",
    "\n",
    "Add the capillary acceleration as a sink term in the kinematic equation & nonlinear convection–reaction equation is :\n",
    "\n",
    "\n",
    "$\\boxed{\\frac{\\partial R}{\\partial t} + u(x,t)\\,\\frac{\\partial R}{\\partial x}+ \\tfrac12\\,R(x,t)\\,\\frac{\\partial u}{\\partial x}= -\\frac{\\gamma}{\\rho\\,R(x,t)}}$\n",
    "\n",
    "\n",
    "- Left-hand side: kinematics (advection + stretching). $\\quad$ &  $\\quad$ Right-hand side: capillary collapse.\n",
    "\n",
    "- When $(u)$ increases along $(x)$, the jet thins due to axial stretching.Surface tension always acts to minimize surface area, reducing $(R)$ locally.Competition between flow-driven stretch and capillary collapse governs breakup.\n"
   ]
  }
 ],
 "metadata": {
  "kernelspec": {
   "display_name": "Python 3 (ipykernel)",
   "language": "python",
   "name": "python3"
  },
  "language_info": {
   "codemirror_mode": {
    "name": "ipython",
    "version": 3
   },
   "file_extension": ".py",
   "mimetype": "text/x-python",
   "name": "python",
   "nbconvert_exporter": "python",
   "pygments_lexer": "ipython3",
   "version": "3.13.5"
  }
 },
 "nbformat": 4,
 "nbformat_minor": 5
}
